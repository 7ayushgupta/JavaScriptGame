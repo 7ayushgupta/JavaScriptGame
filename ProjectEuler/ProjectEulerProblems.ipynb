{
 "cells": [
  {
   "cell_type": "markdown",
   "metadata": {},
   "source": [
    "# Problem 8"
   ]
  },
  {
   "cell_type": "code",
   "execution_count": 34,
   "metadata": {},
   "outputs": [
    {
     "name": "stdout",
     "output_type": "stream",
     "text": [
      "23514624000\n"
     ]
    }
   ],
   "source": [
    "s = \"7316717653133062491922511967442657474235534919493496983520312774506326239578318016984801869478851843858615607891129494954595017379583319528532088055111254069874715852386305071569329096329522744304355766896648950445244523161731856403098711121722383113622298934233803081353362766142828064444866452387493035890729629049156044077239071381051585930796086670172427121883998797908792274921901699720888093776657273330010533678812202354218097512545405947522435258490771167055601360483958644670632441572215539753697817977846174064955149290862569321978468622482839722413756570560574902614079729686524145351004748216637048440319989000889524345065854122758866688116427171479924442928230863465674813919123162824586178664583591245665294765456828489128831426076900422421902267105562632111110937054421750694165896040807198403850962455444362981230987879927244284909188845801561660979191338754992005240636899125607176060588611646710940507754100225698315520005593572972571636269561882670428252483600823257530420752963450\"\n",
    "largestProduct = 0\n",
    "for i in range(0, len(s) - 13):\n",
    "    product = 1\n",
    "    for j in range(i, i + 13):\n",
    "        product *= int(s[j: j + 1])\n",
    "    if product > largestProduct:\n",
    "        largestProduct = product\n",
    "print (largestProduct)"
   ]
  },
  {
   "cell_type": "markdown",
   "metadata": {},
   "source": [
    "# Problem 9"
   ]
  },
  {
   "cell_type": "code",
   "execution_count": 35,
   "metadata": {},
   "outputs": [
    {
     "name": "stdout",
     "output_type": "stream",
     "text": [
      "31875000.0\n"
     ]
    }
   ],
   "source": [
    "for a in range(3, 1000):\n",
    "    for b in range (a + 1, 999):\n",
    "        cSquared = a**2 + b**2\n",
    "        c = cSquared**0.5\n",
    "        if a + b + c == 1000:\n",
    "            product = a * b * c\n",
    "            print(product)\n",
    "            break"
   ]
  },
  {
   "cell_type": "markdown",
   "metadata": {},
   "source": [
    "# Problem 14"
   ]
  },
  {
   "cell_type": "code",
   "execution_count": 37,
   "metadata": {},
   "outputs": [
    {
     "name": "stdout",
     "output_type": "stream",
     "text": [
      "found 837799 at length 525 in 20.738991737365723 seconds\n"
     ]
    }
   ],
   "source": [
    "import time\n",
    " \n",
    "start = time.time()\n",
    " \n",
    "def collatz(n, count=1):\n",
    "    while n > 1:\n",
    "        count += 1\n",
    "        if n % 2 == 0:\n",
    "            n = n/2\n",
    "        else:\n",
    "            n = 3*n + 1\n",
    "    return count\n",
    " \n",
    "max = [0,0]\n",
    "for i in range(1000000):\n",
    "    c = collatz(i)\n",
    "    if c > max[0]:\n",
    "        max[0] = c\n",
    "        max[1] = i\n",
    " \n",
    "elapsed = (time.time() - start)\n",
    "print(\"found %s at length %s in %s seconds\" % (max[1],max[0],elapsed))"
   ]
  },
  {
   "cell_type": "markdown",
   "metadata": {},
   "source": [
    "# Problem 10"
   ]
  },
  {
   "cell_type": "code",
   "execution_count": 40,
   "metadata": {},
   "outputs": [
    {
     "name": "stdout",
     "output_type": "stream",
     "text": [
      "found 142913828922 in 0.21512651443481445 seconds\n"
     ]
    }
   ],
   "source": [
    "import time\n",
    " \n",
    "def prime_sum(n):\n",
    "    if n < 2: return 0\n",
    "    if n == 2: return 2\n",
    "    if n % 2 == 0: n += 1\n",
    "    primes = [True] * n\n",
    "    primes[0],primes[1] = [None] * 2\n",
    "    sum = 0\n",
    "    for ind,val in enumerate(primes):\n",
    "        if val is True and ind > n ** 0.5 + 1:\n",
    "            sum += ind\n",
    "        elif val is True:\n",
    "            primes[ind*2::ind] = [False] * (((n - 1)//ind) - 1)\n",
    "            sum += ind\n",
    "    return sum\n",
    " \n",
    "start = time.time()\n",
    "sum = prime_sum(2000000)\n",
    "elapsed = (time.time() - start)\n",
    " \n",
    "print(\"found %s in %s seconds\"% (sum,elapsed))"
   ]
  },
  {
   "cell_type": "markdown",
   "metadata": {},
   "source": [
    "# Problem 55"
   ]
  },
  {
   "cell_type": "code",
   "execution_count": 43,
   "metadata": {},
   "outputs": [
    {
     "name": "stdout",
     "output_type": "stream",
     "text": [
      "The answer is 249 found in 0.054950 seconds\n"
     ]
    }
   ],
   "source": [
    "from time import time\n",
    "\n",
    "def rev(x):\n",
    "    return int(str(x)[::-1])\n",
    "\n",
    "def Palindrome(x):\n",
    "    if x == rev(x): return True\n",
    "    else : return False\n",
    "\n",
    "def test(x):\n",
    "    steps = 0\n",
    "    while True :\n",
    "        x += rev(x)\n",
    "        if not Palindrome(x):\n",
    "            steps += 1\n",
    "        else:\n",
    "            return False\n",
    "        if steps > 50 :\n",
    "            return True\n",
    "        \n",
    "\n",
    "\n",
    "def main():\n",
    "    starttime = time()\n",
    "    lychrel = 0\n",
    "    for i in range(1,10000):\n",
    "        if test(i) : lychrel += 1\n",
    "    elapsed = time() - starttime \n",
    "    print(\"The answer is %d found in %f seconds\"  %(lychrel,elapsed))\n",
    "\n",
    "if __name__ == \"__main__\":\n",
    "    main()"
   ]
  },
  {
   "cell_type": "code",
   "execution_count": null,
   "metadata": {},
   "outputs": [],
   "source": []
  }
 ],
 "metadata": {
  "kernelspec": {
   "display_name": "Python 3",
   "language": "python",
   "name": "python3"
  },
  "language_info": {
   "codemirror_mode": {
    "name": "ipython",
    "version": 3
   },
   "file_extension": ".py",
   "mimetype": "text/x-python",
   "name": "python",
   "nbconvert_exporter": "python",
   "pygments_lexer": "ipython3",
   "version": "3.6.4"
  }
 },
 "nbformat": 4,
 "nbformat_minor": 2
}
